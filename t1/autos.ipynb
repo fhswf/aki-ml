{
 "cells": [
  {
   "cell_type": "markdown",
   "id": "23fe18f6",
   "metadata": {},
   "source": [
    "<figure>\n",
    "  <IMG SRC=\"https://upload.wikimedia.org/wikipedia/commons/thumb/d/d5/Fachhochschule_Südwestfalen_20xx_logo.svg/320px-Fachhochschule_Südwestfalen_20xx_logo.svg.png\" WIDTH=250 ALIGN=\"right\">\n",
    "</figure>\n",
    "\n",
    "# Machine Learning\n",
    "### Sommersemester 2025\n",
    "Prof. Dr. Stefan Goetze"
   ]
  },
  {
   "cell_type": "markdown",
   "id": "09e2eee9",
   "metadata": {},
   "source": [
    "# Vorhersage von Autoverkaufspreisen\n",
    "\n",
    "Ihr Name\n",
    "<br>\n",
    "Fachhochschule Südwestfalen\n",
    "\n",
    "Ausarbeitung im Modul „Modulname“\n",
    "<br>\n",
    "Sommersemester 2024"
   ]
  },
  {
   "cell_type": "markdown",
   "id": "00a515c3",
   "metadata": {},
   "source": [
    "### Inhaltsverzeichnis\n",
    "\n",
    "<!-- Beispiel-Gliederung -->\n",
    "\n",
    "1. **Einleitung**  \n",
    "2. **Vorbereitung und Daten** \n",
    "3. **Ein weiteres Kapitel**  \n",
    "    3.1 Ein Abschnitt  \n",
    "    3.2 Ein weiterer Abschnitt  \n",
    "4. **Zusammenfassung**  \n",
    "    4.1 Ergebnisse  \n",
    "    4.2 Fazit\n",
    "5. **Literaturverzeichnis**"
   ]
  },
  {
   "cell_type": "markdown",
   "id": "66b27335",
   "metadata": {},
   "source": [
    "# 1. Einleitung\n",
    "\n",
    "In dieser Musteraufgabe geht es um einen Datensatz zu Gebrauchtwagen. Sie sollen eine Preisschätzung durchführen und ggf. Klassifikatoren für die Getriebeart und den Autotyp hinzufügen. Verwenden Sie dieses Notebook als Vorlage für Ihre Ausarbeitung. Sie können beliebige Bibliotheken verwenden. Voraussetzung ist, dass das Notebook auf dem FH-Cluster lauffähig ist!\n",
    "\n",
    "- Für den Auto-Datensatz soll eine Preisvorhersage erstellt werden.\n",
    "- Verwenden Sie die Daten `autos_data` zum Trainieren des Schätzers.\n",
    "- Erstellen Sie mindestens ein Modell. Besser ist es, wenn Sie mehrere Modelle vergleichen\n",
    "- Das beste Modell benennen Sie mit der Referenz `bestmodel`.\n",
    "- (optional) führen Sie einen binären Klassifikator ein, welcher schätzt, ob ein Auto ein automatisches oder manuelles Getriebe besitz.\n",
    "- (optional) führen Sie einen Multiklassen-Klassifikator ein, welcher schätzt, um welchen Typ es sich bei einem Auto handelt."
   ]
  },
  {
   "cell_type": "markdown",
   "id": "d5b70ea0",
   "metadata": {},
   "source": [
    "# 2. Vorbereitung und Daten"
   ]
  },
  {
   "cell_type": "markdown",
   "id": "10ee06a5",
   "metadata": {},
   "source": [
    "Es müssen zunächst alle Pakete, die nicht in der Standardbibliothek enthalten sind, installiert werden"
   ]
  },
  {
   "cell_type": "code",
   "execution_count": null,
   "id": "8a836a70",
   "metadata": {},
   "outputs": [],
   "source": [
    "import sys\n",
    "!{sys.executable} -m pip install pandas"
   ]
  },
  {
   "cell_type": "code",
   "execution_count": null,
   "id": "bef20cbe",
   "metadata": {},
   "outputs": [],
   "source": [
    "import os\n",
    "import requests\n",
    "\n",
    "autos_data     = 'https://fh-swf.sciebo.de/s/Xr4FcSHHW8sfi0R/download'\n",
    "autos_validate = 'https://fh-swf.sciebo.de/s/LQLUgdmqjmA4gob/download'\n",
    "\n",
    "def download(filename, url):\n",
    "    if not os.path.isfile(filename):\n",
    "        r = requests.get(url)\n",
    "        with open(filename, 'wb') as f:\n",
    "            f.write(r.content)\n",
    "\n",
    "data_csv = 'autos_data.csv'\n",
    "download(data_csv, autos_data)"
   ]
  },
  {
   "cell_type": "code",
   "execution_count": null,
   "id": "4bba4c2f",
   "metadata": {},
   "outputs": [],
   "source": [
    "import pandas as pd\n",
    "\n",
    "df = pd.read_csv(data_csv, sep=',')\n",
    "df.head()"
   ]
  },
  {
   "cell_type": "code",
   "execution_count": null,
   "id": "675771f5",
   "metadata": {},
   "outputs": [],
   "source": [
    "df.info()"
   ]
  },
  {
   "cell_type": "markdown",
   "id": "ea955e6e",
   "metadata": {},
   "source": [
    "# Vorverarbeitung "
   ]
  },
  {
   "cell_type": "markdown",
   "id": "2075b37b",
   "metadata": {},
   "source": [
    "# Modellauswahl und Training"
   ]
  },
  {
   "cell_type": "markdown",
   "id": "275a1834",
   "metadata": {},
   "source": [
    "**Achtung:** In Ihrer Ausarbeitung **müssen zwingend** bestimmte Methoden/Variable implementiert werden:\n",
    "1. Ein Modell zur Schätzung des Preises. Das (beste) Modell muss den (Variablen-) Namen **`bestmodel`** haben. Dieses Modell muss ein Objekt sein, dass zu einer Klasse gehört, welche die Methoden **`fit()`** und **`predict()`** implementiert.\n",
    "1. Es muss eine Methode **`preprocess(csvfile)`** implementiert sein, die als Parameter den Dateinamen einer CSV-Datei akzeptiert und als Ergebnis ein Tupel `X, y` (Daten und Zielwerte) zurückliefert. Die Daten `X` müssen so erzeugt werden, dass sie mit der `predict()`-Methode verarebeitet werden können."
   ]
  },
  {
   "cell_type": "code",
   "execution_count": null,
   "id": "bd87dd68",
   "metadata": {},
   "outputs": [],
   "source": [
    "import numpy as np\n",
    "from sklearn.dummy import DummyRegressor\n",
    "\n",
    "bestmodel = None\n",
    "\n",
    "def preprocess(csvfile: str) -> (np.ndarray, np.ndarray):\n",
    "    # Beispiel-Implementierung\n",
    "    df = pd.read_csv(csvfile, sep=',')\n",
    "    df = df.dropna(how='any')\n",
    "    X = df[['baujahr', 'vorbesitzer']].values\n",
    "    y = df[['verkaufspreis']].values.ravel()\n",
    "    return X, y\n",
    "\n",
    "\n",
    "\n",
    "X, y = preprocess(data_csv)\n",
    "bestmodel = DummyRegressor().fit(X, y)\n",
    "y_predict = bestmodel.predict(X)"
   ]
  },
  {
   "cell_type": "markdown",
   "id": "03da0f5e",
   "metadata": {},
   "source": [
    "# Validierung\n",
    "\n",
    "Wir werden die Ergebnisse in der folgenden Art und Weise überprüfen. Die Daten sowie die Metrik werden wird dazu ggf. austauschen. Achten Sie bei Ihrer Implementierung darauf, dass diese Code-Zelle unverändert lauf"
   ]
  },
  {
   "cell_type": "code",
   "execution_count": null,
   "id": "2aef2dbc",
   "metadata": {},
   "outputs": [],
   "source": [
    "validate_csv = 'autos_validate.csv'\n",
    "download(validate_csv, autos_validate)\n",
    "_X, _y = preprocess(validate_csv)\n",
    "error = bestmodel.predict(_X) - _y\n",
    "assert error.ndim==1"
   ]
  },
  {
   "cell_type": "markdown",
   "id": "7ee2b40f",
   "metadata": {},
   "source": [
    "# Literaturverzeichnis\n",
    "\n",
    "<!-- Beispiele: -->\n",
    "\n",
    "[1] Aurélien Géron, Thomas Demmig und Kristian Rother. *Praxiseinstieg Machine Learning mit Scikit-Learn, Keras und TensorFlow. Konzepte, Tools und Techniken für intelligente Systeme.* 2. Aufl. Heidelberg: O'Reilly, 2020.\n",
    "<br>\n",
    "[2] Wikipedia. *Machine learning.* URL: [https://en.wikipedia.org/w/index.php?title=Machine_learning&oldid=1213454596](https://en.wikipedia.org/w/index.php?title=Machine_learning&oldid=1213454596) (besucht am 13.03.2024)\n",
    "<br>\n",
    "[3] ..."
   ]
  },
  {
   "cell_type": "code",
   "execution_count": null,
   "id": "5233ec2c",
   "metadata": {},
   "outputs": [],
   "source": [
    "import io\n",
    "import nbformat\n",
    "\n",
    "thisfilename = \"autos.ipynb\"\n",
    "\n",
    "# Reading the notebook\n",
    "with io.open(thisfilename, 'r', encoding='utf-8') as f:\n",
    "    nb = nbformat.read(f, as_version=4)\n",
    "\n",
    "word_count = 0\n",
    "for cell in nb.cells:\n",
    "    if cell.cell_type == \"markdown\":\n",
    "        word_count += len(cell['source'].replace('#', '').lstrip().split(' '))\n",
    "\n",
    "print(word_count)"
   ]
  }
 ],
 "metadata": {
  "kernelspec": {
   "display_name": "Python 3 (ipykernel)",
   "language": "python",
   "name": "python3"
  },
  "language_info": {
   "codemirror_mode": {
    "name": "ipython",
    "version": 3
   },
   "file_extension": ".py",
   "mimetype": "text/x-python",
   "name": "python",
   "nbconvert_exporter": "python",
   "pygments_lexer": "ipython3",
   "version": "3.11.5"
  }
 },
 "nbformat": 4,
 "nbformat_minor": 5
}
