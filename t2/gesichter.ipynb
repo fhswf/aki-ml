{
 "cells": [
  {
   "cell_type": "markdown",
   "id": "d544e65b",
   "metadata": {},
   "source": [
    "<figure>\n",
    "  <IMG SRC=\"https://upload.wikimedia.org/wikipedia/commons/thumb/d/d5/Fachhochschule_Südwestfalen_20xx_logo.svg/320px-Fachhochschule_Südwestfalen_20xx_logo.svg.png\" WIDTH=250 ALIGN=\"right\">\n",
    "</figure>\n",
    "\n",
    "# Machine Learning\n",
    "### Sommersemester 2024\n",
    "Prof. Dr. Heiner Giefers"
   ]
  },
  {
   "cell_type": "markdown",
   "id": "9236c402",
   "metadata": {},
   "source": [
    "# Emotionserkennung\n",
    "\n",
    "Ihr Name\n",
    "<br>\n",
    "Fachhochschule Südwestfalen\n",
    "\n",
    "Ausarbeitung im Modul „Modulname“\n",
    "<br>\n",
    "Sommersemester 2024"
   ]
  },
  {
   "cell_type": "markdown",
   "id": "68020e50",
   "metadata": {},
   "source": [
    "### Inhaltsverzeichnis\n",
    "\n",
    "<!-- Beispiel-Gliederung -->\n",
    "\n",
    "1. **Einleitung**  \n",
    "2. **Vorbereitung und Daten** \n",
    "3. **Ein weiteres Kapitel**  \n",
    "    3.1 Ein Abschnitt  \n",
    "    3.2 Ein weiterer Abschnitt  \n",
    "4. **Zusammenfassung**  \n",
    "    4.1 Ergebnisse  \n",
    "    4.2 Fazit\n",
    "5. **Literaturverzeichnis**"
   ]
  },
  {
   "cell_type": "markdown",
   "id": "55f21a25",
   "metadata": {},
   "source": [
    "# Einleitung\n",
    "\n",
    "## Motivation\n",
    "\n",
    "In dieser Musteraufgabe geht es um einen Datensatz zu Gesichtern, die eine bestimmte Emotion zeigen. Sie sollen eine Schätzung durchführen, welche Emotion zu dem Gesicht annotiert ist. Verwenden Sie dieses Notebook als Vorlage für Ihre Ausarbeitung. Sie können beliebige Bibliotheken verwenden. Voraussetzung ist, dass das Notebook auf dem FH-Cluster lauffähig ist!\n",
    "\n",
    "- Für den Gesichter-Datensatz soll eine Klassifikation der Emotion erstellt werden.\n",
    "- Verwenden Sie die Daten in `gesichter_data.zip` zum Trainieren des Klassifikators.\n",
    "- Erstellen Sie mindestens ein Modell. Besser ist es, wenn Sie mehrere Modelle vergleichen\n",
    "- Das beste Modell benennen Sie mit der Referenz bestmodel.\n",
    "- (optional) führen Sie weitere Analysen durch. Z.B. um die Bilder in die Kategorien Frau/Mann/Kind zu klassifizieren oder um bekannte Persönlichkeiten in den Bildern zu identigizieren. \n",
    "\n",
    "## Zielsetzung\n",
    "\n",
    "Lorem ipsum ..."
   ]
  },
  {
   "cell_type": "code",
   "execution_count": null,
   "id": "27175bcd",
   "metadata": {},
   "outputs": [],
   "source": [
    "import os\n",
    "import requests\n",
    "import zipfile\n",
    "\n",
    "def download(filename, url):\n",
    "    if not os.path.isfile(filename):\n",
    "        r = requests.get(url)\n",
    "        with open(filename, 'wb') as f:\n",
    "            f.write(r.content)\n",
    "        with zipfile.ZipFile(filename, 'r') as zip_ref:\n",
    "            zip_ref.extractall()\n",
    "\n",
    "download('gesichter_data.zip', 'https://fh-swf.sciebo.de/s/Ny8WVY0X7gYWVX3/download?path=%2F&files=gesichter_data.zip')\n",
    "data_csv = 'gesichter_data/gesichter.csv'"
   ]
  },
  {
   "cell_type": "code",
   "execution_count": null,
   "id": "ee98070e",
   "metadata": {},
   "outputs": [],
   "source": [
    "import pandas as pd\n",
    "\n",
    "df = pd.read_csv(data_csv, sep=',')\n",
    "df.sample(10)"
   ]
  },
  {
   "cell_type": "markdown",
   "id": "9ad30906",
   "metadata": {},
   "source": [
    "# Vorverarbeitung"
   ]
  },
  {
   "cell_type": "markdown",
   "id": "f1a78a94",
   "metadata": {},
   "source": [
    "# Modellauswahl und Training\n",
    "\n",
    "**Achtung:** In Ihrer Ausarbeitung **müssen zwingend** bestimmte Methoden/Variable implementiert werden:\n",
    "1. Ein Modell zur Schätzung des Preises. Das (beste) Modell muss den (Variablen-) Namen **`bestmodel`** haben. Dieses Modell muss ein Objekt sein, dass zu einer Klasse gehört, welche die Methoden **`fit()`** und **`predict()`** implementiert.\n",
    "1. Es muss eine Methode **`preprocess(csvfile)`** implementiert sein, die als Parameter den Dateinamen einer CSV-Datei akzeptiert und als Ergebnis ein Tupel `X, y` (Daten und Zielwerte) zurückliefert. Die Daten `X` müssen so erzeugt werden, dass sie mit der `predict()`-Methode verarebeitet werden können."
   ]
  },
  {
   "cell_type": "code",
   "execution_count": null,
   "id": "35f7f63b",
   "metadata": {},
   "outputs": [],
   "source": [
    "bestmodel = None\n",
    "\n",
    "def preprocess(csvfile):\n",
    "    # Beispiel-Implementierung\n",
    "    df = pd.read_csv(csvfile, sep=',')\n",
    "    df = df.dropna(how='any')\n",
    "    X = df[['bild']].values\n",
    "    y = df[['emotion']].values.ravel()\n",
    "    return X, y\n"
   ]
  },
  {
   "cell_type": "code",
   "execution_count": null,
   "id": "4a10b45c",
   "metadata": {},
   "outputs": [],
   "source": [
    "import numpy as np\n",
    "from sklearn.dummy import DummyClassifier\n",
    "\n",
    "bestmodel = DummyClassifier(strategy='stratified')\n",
    "X, y = preprocess(data_csv)\n",
    "bestmodel.fit(X, y)"
   ]
  },
  {
   "cell_type": "markdown",
   "id": "28619d85",
   "metadata": {},
   "source": [
    "# Validierung\n",
    "Wir werden die Ergebnisse in der folgenden Art und Weise überprüfen. Die Daten sowie die Metrik werden wird dazu ggf. austauschen. Achten Sie bei Ihrer Implementierung darauf, dass diese Code-Zelle unverändert lauf"
   ]
  },
  {
   "cell_type": "code",
   "execution_count": null,
   "id": "77fa1ad5",
   "metadata": {},
   "outputs": [],
   "source": [
    "download('gesichter_validate.zip', 'https://fh-swf.sciebo.de/s/Ny8WVY0X7gYWVX3/download?path=%2F&files=gesichter_validate.zip')\n",
    "validate_csv = 'gesichter_validate/gesichter.csv'\n",
    "\n",
    "X, y = preprocess(validate_csv)\n",
    "errors = (bestmodel.predict(X) != y).sum()\n",
    "assert type(errors)==int or errors.ndim==0"
   ]
  },
  {
   "cell_type": "markdown",
   "id": "fbf34650",
   "metadata": {},
   "source": [
    "# Literaturverzeichnis\n",
    "\n",
    "<!-- Beispiele: -->\n",
    "\n",
    "[1] Aurélien Géron, Thomas Demmig und Kristian Rother. *Praxiseinstieg Machine Learning mit Scikit-Learn, Keras und TensorFlow. Konzepte, Tools und Techniken für intelligente Systeme.* 2. Aufl. Heidelberg: O'Reilly, 2020.\n",
    "<br>\n",
    "[2] Wikipedia. *Machine learning.* URL: [https://en.wikipedia.org/w/index.php?title=Machine_learning&oldid=1213454596](https://en.wikipedia.org/w/index.php?title=Machine_learning&oldid=1213454596) (besucht am 13.03.2024)\n",
    "<br>\n",
    "[3] ..."
   ]
  },
  {
   "cell_type": "code",
   "execution_count": null,
   "id": "95a5b76c",
   "metadata": {},
   "outputs": [],
   "source": [
    "import io\n",
    "from nbformat import current\n",
    "\n",
    "thisfilename = \"gesichter.ipynb\"\n",
    "\n",
    "with io.open(thisfilename, 'r', encoding='utf-8') as f:\n",
    "    nb = current.read(f, 'json')\n",
    "\n",
    "word_count = 0\n",
    "for cell in nb.worksheets[0].cells:\n",
    "    if cell.cell_type == \"markdown\":\n",
    "        word_count += len(cell['source'].replace('#', '').lstrip().split(' '))\n",
    "print(word_count)"
   ]
  }
 ],
 "metadata": {
  "kernelspec": {
   "display_name": "Python 3 (ipykernel)",
   "language": "python",
   "name": "python3"
  },
  "language_info": {
   "codemirror_mode": {
    "name": "ipython",
    "version": 3
   },
   "file_extension": ".py",
   "mimetype": "text/x-python",
   "name": "python",
   "nbconvert_exporter": "python",
   "pygments_lexer": "ipython3",
   "version": "3.11.5"
  }
 },
 "nbformat": 4,
 "nbformat_minor": 5
}
